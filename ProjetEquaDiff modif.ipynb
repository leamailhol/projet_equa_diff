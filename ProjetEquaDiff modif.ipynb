{
 "cells": [
  {
   "cell_type": "markdown",
   "metadata": {},
   "source": [
    "# Projet numérique : choix du pas de temps"
   ]
  },
  {
   "cell_type": "code",
   "execution_count": null,
   "metadata": {},
   "outputs": [],
   "source": []
  },
  {
   "cell_type": "markdown",
   "metadata": {},
   "source": [
    "Corention Hennion, Léa Mailhol"
   ]
  },
  {
   "cell_type": "markdown",
   "metadata": {},
   "source": [
    "## Pas fixe"
   ]
  },
  {
   "cell_type": "code",
   "execution_count": null,
   "metadata": {},
   "outputs": [],
   "source": [
    "import numpy as np\n",
    "import matplotlib.pyplot as plt"
   ]
  },
  {
   "cell_type": "code",
   "execution_count": null,
   "metadata": {},
   "outputs": [],
   "source": [
    "def solve_euler_explicit(f, x0, t0, dt, tf ) :\n",
    "    n = int((tf - t0) / dt)\n",
    "    x = np.empty(n)\n",
    "    x[0] = x0\n",
    "    t = [t0 + i * dt for i in range(n)]\n",
    "    for i in range (n-1) :\n",
    "        x[i+1] = x[i] + dt * f(t[i],x[i])\n",
    "    return t, x"
   ]
  },
  {
   "cell_type": "code",
   "execution_count": null,
   "metadata": {},
   "outputs": [],
   "source": [
    "def f(t, x) :\n",
    "    return 2*t*x\n",
    "\n",
    "def solve_heun(f, x0, t0, dt, n) :\n",
    "    x = np.empty(n)\n",
    "    x[0] = x0\n",
    "    t = [t0 + i * dt for i in range(n)]\n",
    "    for i in range (n-1) :\n",
    "        x[i+1] = x[i] + dt / 2 * (f(t[i], x[i]) + f(t[i+1],x[i] + dt * f(t[i], x[i])))\n",
    "    return t,x\n",
    "\n",
    "T, X = solve_heun( f, 1, 0, 0.01, 100)\n",
    "plt.plot(T, X)\n",
    "Z = np.exp([t**2 for t in T])\n",
    "plt.plot(T, Z)\n",
    "plt.show()"
   ]
  },
  {
   "cell_type": "markdown",
   "metadata": {},
   "source": [
    "## Adaptation du pas de temps"
   ]
  },
  {
   "cell_type": "markdown",
   "metadata": {},
   "source": [
    "On cherche à montrer que si f est $C^{1}$, on a pour le shéma d'Euler explicite :\n",
    "\\begin{equation}\n",
    "\\|e^{j+1}\\| = \\Delta t_j \\frac{\\|f(t_{j+1},x^{j+1}) - f(t_j,x^{j})\\|}{2} + O(\\Delta t^{3}_j) \n",
    "\\end{equation}\n",
    "\n",
    "On a d'après l'énoncé \n",
    "\\begin{equation}\n",
    "e^{j+1} = \\int_{t_{j}}^{t_{j+1}}f(s,x(s)) \\, ds - x^{j+1} + x^{j}\n",
    "\\end{equation}\n",
    "et \n",
    "\\begin{equation}\n",
    "x^{j+1}=x^{j} + \\Delta t_jf(t_j,x^{j})\n",
    "\\end{equation}\n",
    "D'où \n",
    "\\begin{equation}\n",
    "e^{j+1} = \\int_{t_{j}}^{t_{j+1}}f(s,x(s)) \\, ds - \\Delta t_jf(t_j,x^{j})\n",
    "\\end{equation}\n"
   ]
  },
  {
   "cell_type": "markdown",
   "metadata": {},
   "source": [
    "$$\n",
    "\\begin{array} { l } { \\text { Si } \\left\\| e ^ { j + 1 } - \\frac { \\Delta t } { 2 } \\left( f \\left( t _ { j + 1 } , x ^ { j + 1 } \\right) - f ( t _ { j } , x ^ { j } \\right) \\right\\| = 0 \\left( \\Delta t _ { j } ^ { 3 } \\right) } \\\\ { \\text { Alors par inégalité triangulaire on aura bien } } \\\\ { \\qquad \\left\\| e ^ { j + 1 } \\right\\| = \\frac { \\Delta t } { 2 } \\left\\| f \\left( t _ { j + 1 } , x ^ { j + 1 } \\right) - f \\left( t _ { j } , x ^ { j } \\right) \\right\\| + O \\left( \\Delta t _ { j } ^ { 3 } \\right) } \\end{array}\n",
    "$$"
   ]
  },
  {
   "cell_type": "markdown",
   "metadata": {},
   "source": [
    "$$\n",
    "\\begin{array} { l } { \\text { Tout d'abord } } \\\\ { \\qquad \\begin{aligned} e ^ { j + 1 } & = \\int _ { t _ { j } } ^ { t _ { j + 1 } } f \\left( s , x ( s ) \\right) d s - \\Delta t _ { j } f \\left( t _ { j , } x ^ { j } \\right) \\\\ & = \\int _ { t _ { j } } ^ { t _ { j + 1 } } \\left( f \\left( s _ { , } x ( s ) \\right) - f \\left( t _ { j , } x ^ { j } \\right) \\right) d s \\end{aligned} } \\end{array}\n",
    "$$\n",
    "\n",
    "$$\n",
    "\\begin{array} { l } { \\text { or comme f est } C ^ { 1 } } \\\\ { \\text { f(s, } x ( s ) ) - f \\left( t _ { j } , x ^ { j } \\right) = ( s - t _ { j } ) \\frac { \\partial f } { \\partial t } \\left( t _ { j } , x ^ { j } \\right) + \\left( x ( s ) - x ^ { j } \\right) \\frac { \\partial f } { \\partial x } \\left( t _ { j } , x ^ { j } \\right) + o \\left( ( s - t _ { j } ) \\left( x ( s ) - x ^ { j } \\right) \\right) } \\end{array}\n",
    "$$\n",
    "\n",
    "Donc\n",
    "\n",
    "$$\n",
    "\\begin{aligned} e ^ { j + 1 } = & \\frac { \\Delta t _ { j } ^ { 2 } } { 2 } \\frac { \\partial f } { \\partial t } \\left( t _ { j } , x ^ { j } \\right) + \\frac { \\partial f } { \\partial x } \\left( t _ { j , } x ^ { j } \\right) \\int _ { t _ { j } } ^ { t _ { j + 1 } } \\left( x ( s ) - x ^ { j } \\right) d s + \\int _ { t _ { j } } ^ { t _ { j + 1 } } o \\left( \\left( s - t _ { j } \\right) \\left( x ( s ) - x ^ { j } \\right) \\right) d s \\end{aligned}\n",
    "$$\n",
    "\n",
    "$$\n",
    "\\begin{array} { l } { \\text { or comme } x \\text { est } C ^ { 1 } \\text { et que } x ^ { j } = x ( t _ { j } ) } \\\\ { x ( s ) - x ^ { j } = \\left( s - t _ { j } \\right) f \\left( t _ { j } , x ^ { j } \\right) + o \\left( \\Delta t _ { j } ^ { 2 } \\right) } \\end{array}\n",
    "$$\n",
    "\n",
    "$$\n",
    "\\begin{array} { l } { \\text { Finalement en intégrant } } \\\\ { e ^ { j + 1 } = \\frac { \\Delta t _ { j } ^ { 2 } } { 2 } \\frac { \\partial f } { \\partial t } \\left( t _ { j } , x ^ { j } \\right) + \\frac { \\Delta t _ { j } ^ { 2 } } { 2 } f \\left( t _ { j } , x ^ { j } \\right) \\frac { \\partial f } { \\partial x } \\left( t _ { j } , x ^ { j } \\right) + o \\left( \\Delta t _ { j } ^ { 3 } \\right) } \\end{array}\n",
    "$$\n",
    "\n",
    "$$\n",
    "\\begin{array} { l } { \\text { Ensuite comme f est } C ^ { 1 } } \\\\ { \\begin{aligned} f \\left( t _ { j + 1 } , x ^ { j + 1 } \\right) - f \\left( t _ { j } , x ^ { j } \\right) = & \\Delta t _ { j } \\frac { \\partial f } { \\partial t } \\left( t _ { j } , x ^ { j } \\right) + \\Delta t _ { j } f \\left( t _ { j } , x ^ { j } \\right) \\frac { \\partial f } { \\partial x } \\left( t _ { j , } x ^ { j } \\right) + o \\left( \\Delta t _ { j } ^ { 2 } f \\left( t _ { j } , x ^ { j } \\right) \\right) \\end{aligned} } \\end{array}\n",
    "$$\n",
    "\n",
    "\n",
    "$$\n",
    "\\begin{array} { l } { \\text { Donc } } \\\\ { \\frac { \\Delta t _ { j } } { 2 } \\left( f \\left( t _ { j + 1 , } x ^ { j + 1 } \\right) - f \\left( t _ { j , } , x ^ { j } \\right) \\right) = \\frac { \\Delta t _ { j } ^ { 2 } } { 2 } \\left( \\frac { \\partial f } { \\partial t } \\left( t _ { j } , x ^ { j } \\right) + f \\left( t _ { j } , x ^ { j } \\right) \\frac { \\partial f } { \\partial x } \\left( t _ { j } , x ^ { j } \\right) \\right) + o \\left( \\Delta t _ { j } ^ { 3 } \\right) } \\end{array}\n",
    "$$\n",
    "\n",
    "D'où\n",
    "\n",
    "$$\n",
    "e ^ { j + 1 } - \\frac { \\Delta t _ { j } } { 2 } \\left( f \\left( t _ { j + 1 } , x ^ { j + 1 } \\right) - f \\left( t _ { j } , x ^ { j } \\right) \\right) = o \\left( \\Delta t _ { j } ^ { 3 } \\right)\n",
    "$$\n",
    "\n",
    "\n",
    "$$\n",
    "\\left\\| e ^ { j + 1 } \\right\\| = \\frac { \\Delta t _ { j } } { 2 } \\left\\| f \\left( t _ { j + 1 } , x ^ { j + 1 } \\right) - f \\left( t _ { j } , x ^ { j } \\right) \\right\\| + 0 \\left( \\Delta t _ { j } ^ { 3 } \\right)\n",
    "$$"
   ]
  },
  {
   "cell_type": "code",
   "execution_count": null,
   "metadata": {},
   "outputs": [],
   "source": []
  }
 ],
 "metadata": {
  "kernelspec": {
   "display_name": "Python 3",
   "language": "python",
   "name": "python3"
  },
  "language_info": {
   "codemirror_mode": {
    "name": "ipython",
    "version": 3
   },
   "file_extension": ".py",
   "mimetype": "text/x-python",
   "name": "python",
   "nbconvert_exporter": "python",
   "pygments_lexer": "ipython3",
   "version": "3.7.4"
  }
 },
 "nbformat": 4,
 "nbformat_minor": 2
}
