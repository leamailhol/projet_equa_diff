{
 "cells": [
  {
   "cell_type": "markdown",
   "metadata": {},
   "source": [
    "# Projet numérique : choix du pas de temps"
   ]
  },
  {
   "cell_type": "markdown",
   "metadata": {},
   "source": [
    "Corention Hennion, Léa Mailhol"
   ]
  },
  {
   "cell_type": "markdown",
   "metadata": {},
   "source": [
    "## Pas fixe"
   ]
  },
  {
   "cell_type": "code",
   "execution_count": null,
   "metadata": {},
   "outputs": [],
   "source": [
    "import numpy as np\n",
    "import matplotlib.pyplot as plt"
   ]
  },
  {
   "cell_type": "code",
   "execution_count": null,
   "metadata": {},
   "outputs": [],
   "source": [
    "def solve_euler_explicit(f, x0, t0, dt, tf ) :\n",
    "    n = int((tf - t0) / dt)\n",
    "    x = np.empty(n)\n",
    "    x[0] = x0\n",
    "    t = [t0 + i * dt for i in range(n)]\n",
    "    for i in range (n-1) :\n",
    "        x[i+1] = x[i] + dt * f(t[i],x[i])\n",
    "    return t, x"
   ]
  },
  {
   "cell_type": "code",
   "execution_count": null,
   "metadata": {},
   "outputs": [],
   "source": [
    "def f(t, x) :\n",
    "    return 2*t*x\n",
    "\n",
    "def solve_heun(f, x0, t0, dt, n) :\n",
    "    x = np.empty(n)\n",
    "    x[0] = x0\n",
    "    t = [t0 + i * dt for i in range(n)]\n",
    "    for i in range (n-1) :\n",
    "        x[i+1] = x[i] + dt / 2 * (f(t[i], x[i]) + f(t[i+1],x[i] + dt * f(t[i], x[i])))\n",
    "    return t,x\n",
    "\n",
    "T, X = solve_heun( f, 1, 0, 0.01, 100)\n",
    "plt.plot(T, X)\n",
    "Z = np.exp([t**2 for t in T])\n",
    "plt.plot(T, Z)\n",
    "plt.show()"
   ]
  },
  {
   "cell_type": "markdown",
   "metadata": {},
   "source": [
    "## Adaptation du pas de temps"
   ]
  },
  {
   "cell_type": "markdown",
   "metadata": {},
   "source": [
    "On cherche à montrer que si f est $C^{1}$, on a pour le shéma d'Euler explicite :\n",
    "\\begin{equation}\n",
    "\\|e^{j+1}\\| = \\Delta t_j \\frac{\\|f(t_{j+1},x^{j+1}) - f(t_j,x^{j})\\|}{2} + O(\\Delta t^{3}_j) \n",
    "\\end{equation}\n",
    "\n",
    "On a d'après l'énoncé \n",
    "\\begin{equation}\n",
    "e^{j+1} = \\int_{t_{j}}^{t_{j+1}}f(s,x(s)) \\, ds - x^{j+1} + x^{j}\n",
    "\\end{equation}\n",
    "et \n",
    "\\begin{equation}\n",
    "x^{j+1}=x^{j} + \\Delta t_jf(t_j,x^{j})\n",
    "\\end{equation}\n",
    "D'où \n",
    "\\begin{equation}\n",
    "e^{j+1} = \\int_{t_{j}}^{t_{j+1}}f(s,x(s)) \\, ds - \\Delta t_jf(t_j,x^{j})\n",
    "\\end{equation}\n"
   ]
  },
  {
   "cell_type": "markdown",
   "metadata": {},
   "source": [
    "Si\n",
    "$$\n",
    "\\begin{equation} { \\left\\| e ^ { j + 1 } - \\frac { \\Delta t } { 2 } \\left( f \\left( t _ { j + 1 } , x ^ { j + 1 } \\right) - f ( t _ { j } , x ^ { j } \\right) \\right\\| = 0 \\left( \\Delta t _ { j } ^ { 3 } \\right) } \\end{equation}\n",
    "$$\n",
    "Alors par inégalité triangulaire on aura bien\n",
    "$$\n",
    "\\begin{equation} { \\qquad \\left\\| e ^ { j + 1 } \\right\\| = \\frac { \\Delta t } { 2 } \\left\\| f \\left( t _ { j + 1 } , x ^ { j + 1 } \\right) - f \\left( t _ { j } , x ^ { j } \\right) \\right\\| + O \\left( \\Delta t _ { j } ^ { 3 } \\right) } \\end{equation}\n",
    "$$"
   ]
  },
  {
   "cell_type": "markdown",
   "metadata": {},
   "source": [
    "Tout d'abord\n",
    "\n",
    "\\begin{equation} { \\qquad \\begin{aligned} e ^ { j + 1 } & = \\int _ { t _ { j } } ^ { t _ { j + 1 } } f \\left( s , x ( s ) \\right) d s - \\Delta t _ { j } f \\left( t _ { j , } x ^ { j } \\right) \\\\ & = \\int _ { t _ { j } } ^ { t _ { j + 1 } } \\left( f \\left( s _ { , } x ( s ) \\right) - f \\left( t _ { j , } x ^ { j } \\right) \\right) d s \\end{aligned} } \\end{equation}\n",
    "\n",
    "or comme f est $ { C ^ { 1 } } $\n",
    "\n",
    "\\begin{equation} { \\text { f(s, } x ( s ) ) - f \\left( t _ { j } , x ^ { j } \\right) = ( s - t _ { j } ) \\frac { \\partial f } { \\partial t } \\left( t _ { j } , x ^ { j } \\right) + \\left( x ( s ) - x ^ { j } \\right) \\frac { \\partial f } { \\partial x } \\left( t _ { j } , x ^ { j } \\right) + o \\left( ( s - t _ { j } ) \\left( x ( s ) - x ^ { j } \\right) \\right) } \\end{equation}\n",
    "\n",
    "Donc\n",
    "\n",
    "\\begin{aligned} e ^ { j + 1 } = & \\frac { \\Delta t _ { j } ^ { 2 } } { 2 } \\frac { \\partial f } { \\partial t } \\left( t _ { j } , x ^ { j } \\right) + \\frac { \\partial f } { \\partial x } \\left( t _ { j , } x ^ { j } \\right) \\int _ { t _ { j } } ^ { t _ { j + 1 } } \\left( x ( s ) - x ^ { j } \\right) d s + \\int _ { t _ { j } } ^ { t _ { j + 1 } } o \\left( \\left( s - t _ { j } \\right) \\left( x ( s ) - x ^ { j } \\right) \\right) d s \\end{aligned}\n",
    "\n",
    "Or comme x est $ C ^ { 1 } $ et que $ x ^ { j } = x ( t _ { j } ) $\n",
    "\n",
    "\\begin{equation} { x ( s ) - x ^ { j } = \\left( s - t _ { j } \\right) f \\left( t _ { j } , x ^ { j } \\right) + o \\left( \\Delta t _ { j } ^ { 2 } \\right) } \\end{equation}\n",
    "\n",
    "Finalement en intégrant\n",
    "\n",
    "\\begin{equation} { e ^ { j + 1 } = \\frac { \\Delta t _ { j } ^ { 2 } } { 2 } \\frac { \\partial f } { \\partial t } \\left( t _ { j } , x ^ { j } \\right) + \\frac { \\Delta t _ { j } ^ { 2 } } { 2 } f \\left( t _ { j } , x ^ { j } \\right) \\frac { \\partial f } { \\partial x } \\left( t _ { j } , x ^ { j } \\right) + o \\left( \\Delta t _ { j } ^ { 3 } \\right) } \\end{equation}\n",
    "\n",
    "Ensuite comme f est $ { C ^ { 1 } } $ (et que $ f \\left( t _ { j } , x ^ { j } \\right) $ est constant par rapport à $ \\Delta t _  { j } $)\n",
    "\n",
    "\\begin{equation} { \\begin{aligned} f \\left( t _ { j + 1 } , x ^ { j + 1 } \\right) - f \\left( t _ { j } , x ^ { j } \\right) = & \\Delta t _ { j } \\frac { \\partial f } { \\partial t } \\left( t _ { j } , x ^ { j } \\right) + \\Delta t _ { j } f \\left( t _ { j } , x ^ { j } \\right) \\frac { \\partial f } { \\partial x } \\left( t _ { j , } x ^ { j } \\right) + o \\left( \\Delta t _ { j } ^ { 2 } f \\left( t _ { j } , x ^ { j } \\right) \\right) \\end{aligned} } \\end{equation}\n",
    "\n",
    "Donc\n",
    "\n",
    "\\begin{equation} { \\frac { \\Delta t _ { j } } { 2 } \\left( f \\left( t _ { j + 1 , } x ^ { j + 1 } \\right) - f \\left( t _ { j , } , x ^ { j } \\right) \\right) = \\frac { \\Delta t _ { j } ^ { 2 } } { 2 } \\left( \\frac { \\partial f } { \\partial t } \\left( t _ { j } , x ^ { j } \\right) + f \\left( t _ { j } , x ^ { j } \\right) \\frac { \\partial f } { \\partial x } \\left( t _ { j } , x ^ { j } \\right) \\right) + o \\left( \\Delta t _ { j } ^ { 3 } \\right) } \\end{equation}\n",
    "\n",
    "D'où\n",
    "\n",
    "$$\n",
    "e ^ { j + 1 } - \\frac { \\Delta t _ { j } } { 2 } \\left( f \\left( t _ { j + 1 } , x ^ { j + 1 } \\right) - f \\left( t _ { j } , x ^ { j } \\right) \\right) = o \\left( \\Delta t _ { j } ^ { 3 } \\right)\n",
    "$$\n",
    "\n",
    "Donc \n",
    "\n",
    "$$\n",
    "\\left\\| e ^ { j + 1 } \\right\\| = \\frac { \\Delta t _ { j } } { 2 } \\left\\| f \\left( t _ { j + 1 } , x ^ { j + 1 } \\right) - f \\left( t _ { j } , x ^ { j } \\right) \\right\\| + 0 \\left( \\Delta t _ { j } ^ { 3 } \\right)\n",
    "$$"
   ]
  },
  {
   "cell_type": "markdown",
   "metadata": {},
   "source": [
    "D'après la question précédente, \n",
    "\n",
    "$\\left\\|e^{j+1}\\right\\|=\\Delta t_{j}\\frac{\\left\\|f\\left(t_{j+1}, x^{j+1}\\right)-f\\left(t_{j}, x^{j}\\right)\\right\\|}{2} +O(\\Delta t_{j} ^{3})$\n",
    "\n",
    "or \n",
    "\n",
    "$f\\left(t_{j+1}, x^{j+1}\\right) = f\\left(t_{j}+ \\Delta t_{j}, x^{j}+\\Delta t_{j}f\\left(t_{j},x^{j}\\right) \\right)$\n",
    "\n",
    "Or comme $f$ est $C^{1}$, on peut donc faire un Dl à l'ordre 1 en $(t_{j},x^{j})$\n",
    "\n",
    "D'où :\n",
    "\n",
    " $f\\left(t_{j+1}, x^{j+1}\\right) = f\\left(t_{j}, x^{j}\\right) + \\Delta t_{j} \\partial_{t} f\\left(t_{j}, x^{j}\\right)+\\Delta t_{j}f\\left(t_{j}, x^{j}\\right) \\partial_x f\\left(t_{j}, x^{j}\\right) + O(\\Delta t_{j} ^{2})$\n",
    "\n",
    "En injectant cela dans l'équation obtenue à la question précédente:\n",
    "\n",
    "$\\left\\|e^{j+1}\\right\\|=\\Delta t_{j}\\frac{\\left\\| \\Delta t_{j} \\partial_{t} f\\left(t_{j}, x^{j}\\right)+\\Delta t_{j}f\\left(t_{j}, x^{j}\\right) \\partial_x f\\left(t_{j}, x^{j}\\right) + O(\\Delta t_{j} ^{2})\\right\\|}{2} +O(\\Delta t_{j} ^{3})$\n",
    "\n",
    "\n",
    "Puis en factorisant par $\\Delta t_{j}$:\n",
    "\n",
    "\n",
    "$\\left\\|e^{j+1}\\right\\|=\\Delta t_{j}^{2}\\frac{\\left\\| \\partial_{t} f\\left(t_{j}, x^{j}\\right)+\n",
    "f\\left(t_{j}, x^{j}\\right) \\partial_x f\\left(t_{j}, x^{j}\\right) + O(\\Delta t_{j})\\right\\|}{2} +O(\\Delta t_{j} ^{3})$\n",
    "\n",
    "Or $O(\\Delta t_{j} ^{3})$ est bien un $O(\\Delta t_{j} ^{2})$\n",
    "\n",
    "\n",
    "Et pour $ \\left\\| \\partial_{t} f\\left(t_{j}, x^{j}\\right)+ f\\left(t_{j}, x^{j}\\right) \\partial_x f\\left(t_{j}, x^{j}\\right) + O(\\Delta t_{j} ^{2})\\right\\|$\n",
    ",ce qui est entre la norme est borné et avec le $\\Delta t_{j} ^{2}$, on a bien résultat voulu.\n",
    "\n",
    "\n",
    "----------------------------\n",
    "\n",
    "L'idée principale de cet algorithme à pas de temps variable est d'améliorer la vitesse d'exécution du programme en augmentant le pas de temps lorsque l'erreur maximale autorisée n'est pas encore atteinte.\n",
    "\n",
    "En effet, on sait que $\\left\\|e^ {j+1}\\right\\| \\leq Tol_{abs}$ et cela implique donc que $\\Delta \\ t_\\text{new} \\geq \\Delta t$.\n",
    "\n",
    "De plus, $ Tol_{abs} $ est l'erreur maximale autorisée. Dans le cas où elle est atteinte ie $\\left\\|e^ {j+1}\\right\\| = Tol_{abs}$ , alors on a $\\Delta \\ t_\\text{new} = \\Delta t$, ce qui correspond à un pas fixe.\n",
    "\n",
    "Le fait que la racine carré soit appropriée s'explique de la manière suivante : on sait que $e^{j+1}= O(\\Delta t_{j} ^{2})$ , c'est-à-dire que $e^{j+1}= f \\Delta t_{j} ^{2} $ avec f bornée et qui ne s'annule pas. De fait, on peut exprimer $\\Delta \\ t_\\text{new}$ de la manière suivante : $\\Delta \\ t_\\text{new} = \\Delta t \\sqrt {\\frac{T o l_{abs }}{f \\Delta t_{j} ^{2}}} = \\sqrt {\\frac{T o l_{abs }}{f}}$.\n",
    "\n",
    "Ainsi $f$ étant bornée et non nulle, on est sûr que $ \\Delta t_\\text{new} $ ne converge ni vers 0 ni ne diverge.\n",
    "\n",
    "$\\textbf{ Pour conclure}$, l'expression $\\Delta t_{\\text {new }}=\\Delta t \\sqrt {\\frac{T o l_{abs }}{\\left\\|e^{j+1}\\right\\|}}$ est appropriée pour ce problème."
   ]
  },
  {
   "cell_type": "code",
   "execution_count": null,
   "metadata": {},
   "outputs": [],
   "source": []
  }
 ],
 "metadata": {
  "kernelspec": {
   "display_name": "Python 3",
   "language": "python",
   "name": "python3"
  },
  "language_info": {
   "codemirror_mode": {
    "name": "ipython",
    "version": 3
   },
   "file_extension": ".py",
   "mimetype": "text/x-python",
   "name": "python",
   "nbconvert_exporter": "python",
   "pygments_lexer": "ipython3",
   "version": "3.7.4"
  }
 },
 "nbformat": 4,
 "nbformat_minor": 2
}
