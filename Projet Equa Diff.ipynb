{
 "cells": [
  {
   "cell_type": "markdown",
   "metadata": {},
   "source": [
    "# Projet numérique : choix du pas de temps"
   ]
  },
  {
   "cell_type": "markdown",
   "metadata": {},
   "source": [
    "Corention Hennion, Léa Mailhol"
   ]
  },
  {
   "cell_type": "markdown",
   "metadata": {},
   "source": [
    "## Pas fixe"
   ]
  },
  {
   "cell_type": "code",
   "execution_count": null,
   "metadata": {},
   "outputs": [],
   "source": [
    "import numpy as np\n",
    "import matplotlib.pyplot as plt"
   ]
  },
  {
   "cell_type": "code",
   "execution_count": null,
   "metadata": {},
   "outputs": [],
   "source": [
    "def solve_euler_explicit(f, x0, t0, dt, tf ) :\n",
    "    n = int((tf - t0) / dt)\n",
    "    x = np.empty(n)\n",
    "    x[0] = x0\n",
    "    t = [t0 + i * dt for i in range(n)]\n",
    "    for i in range (n-1) :\n",
    "        x[i+1] = x[i] + dt * f(t[i],x[i])\n",
    "    return t, x"
   ]
  },
  {
   "cell_type": "code",
   "execution_count": null,
   "metadata": {},
   "outputs": [],
   "source": [
    "def f(t, x) :\n",
    "    return 2*t*x\n",
    "\n",
    "def solve_heun(f, x0, t0, dt, n) :\n",
    "    x = np.empty(n)\n",
    "    x[0] = x0\n",
    "    t = [t0 + i * dt for i in range(n)]\n",
    "    for i in range (n-1) :\n",
    "        x[i+1] = x[i] + dt / 2 * (f(t[i], x[i]) + f(t[i+1],x[i] + dt * f(t[i], x[i])))\n",
    "    return t,x\n",
    "\n",
    "T, X = solve_heun( f, 1, 0, 0.01, 100)\n",
    "plt.plot(T, X)\n",
    "Z = np.exp([t**2 for t in T])\n",
    "plt.plot(T, Z)\n",
    "plt.show()"
   ]
  },
  {
   "cell_type": "markdown",
   "metadata": {},
   "source": [
    "## Adaptation du pas de temps"
   ]
  },
  {
   "cell_type": "markdown",
   "metadata": {},
   "source": [
    "On cherche à montrer que si f est $C^{1}$, on a pour le shéma d'Euler explicite :\n",
    "\\begin{equation}\n",
    "\\|e^{j+1}\\| = \\Delta t_j \\frac{\\|f(t_{j+1},x^{j+1}) - f(t_j,x^{j})\\|}{2} + O(\\Delta t^{3}_j) \n",
    "\\end{equation}\n",
    "\n",
    "On a d'après l'énoncé \n",
    "\\begin{equation}\n",
    "e^{j+1} = \\int_{t_{j}}^{t_{j+1}}f(s,x(s)) \\, ds - x^{j+1} + x^{j}\n",
    "\\end{equation}\n",
    "et \n",
    "\\begin{equation}\n",
    "x^{j+1}=x^{j} + \\Delta t_jf(t_j,x^{j})\n",
    "\\end{equation}\n",
    "D'où \n",
    "\\begin{equation}\n",
    "e^{j+1} = \\int_{t_{j}}^{t_{j+1}}f(s,x(s)) \\, ds - \\Delta t_jf(t_j,x^{j})\n",
    "\\end{equation}\n"
   ]
  }
 ],
 "metadata": {
  "kernelspec": {
   "display_name": "Python 3",
   "language": "python",
   "name": "python3"
  },
  "language_info": {
   "codemirror_mode": {
    "name": "ipython",
    "version": 3
   },
   "file_extension": ".py",
   "mimetype": "text/x-python",
   "name": "python",
   "nbconvert_exporter": "python",
   "pygments_lexer": "ipython3",
   "version": "3.7.4"
  }
 },
 "nbformat": 4,
 "nbformat_minor": 2
}
